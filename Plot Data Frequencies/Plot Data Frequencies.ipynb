{
 "cells": [
  {
   "cell_type": "code",
   "execution_count": 154,
   "metadata": {},
   "outputs": [],
   "source": [
    "import pandas as pd\n",
    "import matplotlib.pyplot as plt"
   ]
  },
  {
   "cell_type": "code",
   "execution_count": 160,
   "metadata": {
    "scrolled": true
   },
   "outputs": [
    {
     "name": "stdout",
     "output_type": "stream",
     "text": [
      "\n",
      "The Total number of news articles scrapped = 504\n"
     ]
    }
   ],
   "source": [
    "data = pd.read_csv('news_info.csv', engine=\"python\")\n",
    "\n",
    "data = pd.DataFrame(data)\n",
    "\n",
    "print ('\\nThe Total number of news articles scrapped =',data.name.count())"
   ]
  },
  {
   "cell_type": "code",
   "execution_count": 166,
   "metadata": {},
   "outputs": [
    {
     "name": "stdout",
     "output_type": "stream",
     "text": [
      "Tags count:\n",
      "\n",
      " United States                      48\n",
      "Coronavirus pandemic               31\n",
      "Middle East                        23\n",
      "Asia                               19\n",
      "China                              15\n",
      "                                   ..\n",
      "Energy                              1\n",
      "Japan                               1\n",
      "Kashmir                             1\n",
      "Fossil Fuels                        1\n",
      " Israeliâ€“Palestinian conflict     1\n",
      "Length: 139, dtype: int64 \n",
      "\n",
      "Tag Names: ['United States' 'Coronavirus pandemic' 'Middle East' 'Asia' 'China'\n",
      " 'India' 'Africa' 'Libya' 'World Health Organization' 'Human Rights'\n",
      " 'Health' 'Asia Pacific' 'Egypt' 'Europe' 'US & Canada' 'Latin America'\n",
      " 'Ethiopia' 'Sport' 'Afghanistan' 'Palestine' 'Taliban' 'United Kingdom'\n",
      " 'Hong Kong protests' 'Donald Trump' 'Khalifa Haftar' 'South Africa'\n",
      " 'Hong Kong' 'Democratic Republic of the Congo' 'Saudi Arabia' 'Weather'\n",
      " 'Germany' 'Environment' 'Kenya' 'Coronavirus outbreak' 'Israel' 'Malawi'\n",
      " 'New Zealand' 'Black Lives Matter' 'Zimbabwe' 'France' 'Pakistan'\n",
      " 'Financial Markets' 'Media' 'Nigeria' 'Qatar' 'Privacy & Surveillance'\n",
      " 'Sri Lanka' 'Climate Change' 'Science & Technology' 'Space'\n",
      " 'Ashraf Ghani' 'Iran' 'Aviation' 'Malaysia' 'Lebanon' 'Abdullah Abdullah'\n",
      " 'Football' 'Family' 'Racism' 'Rwanda' 'Turkey' 'Boko Haram' 'Spain'\n",
      " 'Venezuela' 'Philippines' 'Brazil' 'Business & Economy' 'Russia'\n",
      " 'European Union' 'Social media' 'Mexico' 'Islam' 'NASA' 'Nepal'\n",
      " 'Wall Street' 'Gaza' 'Olympics' 'Niger' 'IDPs' 'Al-Shabab'\n",
      " 'United Nations' 'South Sudan' 'North Korea' 'Corruption'\n",
      " \"Syria's Civil War\" 'Global Warming' 'Education' 'Water' 'Peru'\n",
      " 'Arab Spring' 'Conflict' 'Tennis' 'Cameroon' 'FIFA' 'Literature'\n",
      " 'Argentina' 'Pakistan elections 2018' 'War & Conflict' 'Somalia' 'IMF'\n",
      " 'Communism' 'Migrants' 'Yemen' 'Ghana' 'US Elections 2016'\n",
      " 'Poverty & Development' 'Cinema' 'Military' 'Jamaica' 'Hassan Rouhani'\n",
      " 'Cyclone' 'Mali' 'Jordan' 'Immigration' 'Ebola' 'Ecuador' 'Politics'\n",
      " 'Senegal' 'Rodrigo Duterte' 'Music' 'Mozambique' 'Police' 'The Far Right'\n",
      " 'Suriname' 'Security' 'Guantanamo Bay ' 'Uganda' 'Italy' 'African Union'\n",
      " 'Pollution' 'Occupied West Bank' 'Abdel Fattah el-Sisi' 'Food'\n",
      " 'Humanitarian crises' 'Energy' 'Japan' 'Kashmir' 'Fossil Fuels'\n",
      " ' Israeliâ€“Palestinian conflict']\n"
     ]
    }
   ],
   "source": [
    "tag = data.tag\n",
    "#tag_uniq = tag.unique()\n",
    "\n",
    "count = tag.str.split('\\n', expand=True).stack().value_counts()\n",
    "name = count.index.values\n",
    "print ('Tags count:\\n\\n',count,'\\n\\nTag Names:',name)"
   ]
  },
  {
   "cell_type": "code",
   "execution_count": 162,
   "metadata": {},
   "outputs": [],
   "source": [
    "name = name[0:5]\n",
    "count = count[0:5]"
   ]
  },
  {
   "cell_type": "code",
   "execution_count": 163,
   "metadata": {},
   "outputs": [
    {
     "data": {
      "image/png": "[encoded data removed]",
      "text/plain": [
       "<Figure size 720x720 with 1 Axes>"
      ]
     },
     "metadata": {
      "needs_background": "light"
     },
     "output_type": "display_data"
    }
   ],
   "source": [
    "plt.figure(figsize=(10,10))\n",
    "\n",
    "plt.bar(name,count)\n",
    "\n",
    "plt.title(\"Tags Recurrence Frequency\")\n",
    "plt.ylabel(\"Frequency\")\n",
    "plt.xlabel(\"Tags\")\n",
    "\n",
    "plt.show()"
   ]
  },
  {
   "cell_type": "code",
   "execution_count": null,
   "metadata": {},
   "outputs": [],
   "source": []
  }
 ],
 "metadata": {
  "kernelspec": {
   "display_name": "Python 3",
   "language": "python",
   "name": "python3"
  },
  "language_info": {
   "codemirror_mode": {
    "name": "ipython",
    "version": 3
   },
   "file_extension": ".py",
   "mimetype": "text/x-python",
   "name": "python",
   "nbconvert_exporter": "python",
   "pygments_lexer": "ipython3",
   "version": "3.6.10"
  }
 },
 "nbformat": 4,
 "nbformat_minor": 4
}
